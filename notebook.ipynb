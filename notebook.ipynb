{
 "cells": [
  {
   "cell_type": "markdown",
   "metadata": {
    "id": "9K0tconW2UKe"
   },
   "source": [
    "<div style=\"width: 100%; clear: both;\">\n",
    "  <div style=\"float: left; width: 50%;\">\n",
    "    <img src=\"http://www.uoc.edu/portal/_resources/common/imatges/marca_UOC/UOC_Masterbrand.jpg\", align=\"left\">\n",
    "  </div>\n",
    "  <div style=\"float: right; width: 50%;\">\n",
    "    <p style=\"padding-top: 42px; text-align:right;\">&nbsp;</p>\n",
    "    <p style=\"padding-top: 42px; text-align:right;\">M2.882 - TFM - Area 5 aula 1</p>\n",
    "    <p style=\"margin: 0; text-align:right;\">2021-1 · Máster universitario en Ciencia de datos (Data science)</p>\n",
    "  </div>\n",
    "   <div style=\"width:100%; clear: both;\">&nbsp;</div>\n",
    "</div>\n",
    "\n",
    "# PEC3 - Design & implementation\n",
    "\n",
    "## Sale of access IoT devices in underground forums"
   ]
  },
  {
   "cell_type": "markdown",
   "metadata": {
    "id": "qBR0rwVU5R4F"
   },
   "source": [
    "Autor: [Sergio Fernández García](mailto:serfer2@protonmail.com)"
   ]
  },
  {
   "cell_type": "code",
   "execution_count": 35,
   "metadata": {
    "id": "t9P5ozTBEqZz"
   },
   "outputs": [],
   "source": [
    "import os\n",
    "from datetime import datetime\n",
    "\n",
    "import matplotlib.pyplot as plt\n",
    "import pandas as pd\n",
    "import seaborn as sns\n",
    "from psycopg2 import connect\n",
    "\n",
    "from application.services import HackForumsThreadsExtraction\n",
    "from infrastructure.repositories import (\n",
    "    ForumDBRepository,\n",
    "    ThreadSummaryDBRepository,\n",
    ")\n",
    "from shared.constants import RELATED_TERMS\n",
    "\n",
    "DDOS_TECH_TERMS = RELATED_TERMS['tech_terms']"
   ]
  },
  {
   "cell_type": "markdown",
   "metadata": {
    "id": "xC5CIhkK5-zz"
   },
   "source": [
    "### Data source\n",
    "\n",
    "Try to connect with environment variables, recommended for docker environment.\n",
    "\n",
    "If no environment variables have been set, DB connection values can be hardcoded below:\n"
   ]
  },
  {
   "cell_type": "code",
   "execution_count": 5,
   "metadata": {
    "id": "t9P5ozTBEqZz"
   },
   "outputs": [],
   "source": [
    "dbc = connect(\n",
    "    host=os.getenv('POSTGRES_HOST', 'localhost'),\n",
    "    database=os.getenv('POSTGRES_DB', 'crimebb'),\n",
    "    user=os.getenv('POSTGRES_USER', 'crimebb'),\n",
    "    password=os.getenv('POSTGRES_PASSWORD', 'crimebbinlocalhost'),\n",
    ")"
   ]
  },
  {
   "cell_type": "markdown",
   "metadata": {
    "id": "xC5CIhkK5-zz"
   },
   "source": [
    "### Data extraction\n",
    "\n",
    "#### Extract HackForums DDoS related threads\n",
    "\n",
    "Read threads heading and first post content from subforums in section `Market`.\n",
    "\n",
    "Selected threads should contain almost one tech term related with DDoS.\n",
    "\n",
    "**NOTES:**\n",
    "\n",
    "* Analyzed thread content is formed by: Thread heading and first thread post (the one that starts thread).\n",
    "* Dataset is big and filtering and preparing data **could take some time** (< 2min).\n"
   ]
  },
  {
   "cell_type": "code",
   "execution_count": 9,
   "metadata": {
    "colab": {
     "base_uri": "https://localhost:8080/",
     "height": 547
    },
    "id": "W2aGSfS3Jmh2",
    "outputId": "276d3cc8-d09a-4ba0-96df-b4e87abd9487"
   },
   "outputs": [
    {
     "name": "stdout",
     "output_type": "stream",
     "text": [
      "*** Related threads ... 40313\n",
      "*** Elapsed Time ...... 0:01:15.538118\n"
     ]
    }
   ],
   "source": [
    "start = datetime.now()\n",
    "data_extraction_service = HackForumsThreadsExtraction(\n",
    "    forum_repository=ForumDBRepository(dbc=dbc),\n",
    "    thread_summary_repository=ThreadSummaryDBRepository(dbc=dbc),\n",
    ")\n",
    "ddos_related_terms = RELATED_TERMS.get('tech_terms')\n",
    "related_threads_data = data_extraction_service.extract(\n",
    "    related_terms=ddos_related_terms,\n",
    ")\n",
    "end = datetime.now()\n",
    "\n",
    "print(f'*** Related threads ... {len(related_threads_data)}')\n",
    "print(f'*** Elapsed Time ...... {end - start}')"
   ]
  },
  {
   "cell_type": "code",
   "execution_count": 17,
   "metadata": {},
   "outputs": [
    {
     "data": {
      "text/html": [
       "<div>\n",
       "<style scoped>\n",
       "    .dataframe tbody tr th:only-of-type {\n",
       "        vertical-align: middle;\n",
       "    }\n",
       "\n",
       "    .dataframe tbody tr th {\n",
       "        vertical-align: top;\n",
       "    }\n",
       "\n",
       "    .dataframe thead th {\n",
       "        text-align: right;\n",
       "    }\n",
       "</style>\n",
       "<table border=\"1\" class=\"dataframe\">\n",
       "  <thead>\n",
       "    <tr style=\"text-align: right;\">\n",
       "      <th></th>\n",
       "      <th>content</th>\n",
       "      <th>tstamp</th>\n",
       "      <th>matching_terms</th>\n",
       "      <th>word_list</th>\n",
       "    </tr>\n",
       "  </thead>\n",
       "  <tbody>\n",
       "    <tr>\n",
       "      <th>0</th>\n",
       "      <td>buying botnet im buying a good botnet with alo...</td>\n",
       "      <td>2008-02-18 08:37:00+00:00</td>\n",
       "      <td>[botnet]</td>\n",
       "      <td>[buying, botnet, im, a, good, with, alot, of, ...</td>\n",
       "    </tr>\n",
       "    <tr>\n",
       "      <th>1</th>\n",
       "      <td>botnet with undetected server 4sale hey people...</td>\n",
       "      <td>2008-03-21 08:47:00+00:00</td>\n",
       "      <td>[botnet]</td>\n",
       "      <td>[botnet, with, undetected, server, 4sale, hey,...</td>\n",
       "    </tr>\n",
       "    <tr>\n",
       "      <th>2</th>\n",
       "      <td>interested in purchasing a botnet im intereste...</td>\n",
       "      <td>2008-04-09 04:41:00+00:00</td>\n",
       "      <td>[botnet, ddos]</td>\n",
       "      <td>[interested, in, purchasing, a, botnet, im, as...</td>\n",
       "    </tr>\n",
       "    <tr>\n",
       "      <th>3</th>\n",
       "      <td>trojans/botnet source/keyloggers + packers/cry...</td>\n",
       "      <td>2008-04-15 07:57:00+00:00</td>\n",
       "      <td>[botnet]</td>\n",
       "      <td>[trojans, botnet, source, keyloggers, packers,...</td>\n",
       "    </tr>\n",
       "    <tr>\n",
       "      <th>4</th>\n",
       "      <td>professional bulletproof hosting service from ...</td>\n",
       "      <td>2008-04-24 12:11:00+00:00</td>\n",
       "      <td>[botnet]</td>\n",
       "      <td>[professional, bulletproof, hosting, service, ...</td>\n",
       "    </tr>\n",
       "  </tbody>\n",
       "</table>\n",
       "</div>"
      ],
      "text/plain": [
       "                                             content  \\\n",
       "0  buying botnet im buying a good botnet with alo...   \n",
       "1  botnet with undetected server 4sale hey people...   \n",
       "2  interested in purchasing a botnet im intereste...   \n",
       "3  trojans/botnet source/keyloggers + packers/cry...   \n",
       "4  professional bulletproof hosting service from ...   \n",
       "\n",
       "                     tstamp  matching_terms  \\\n",
       "0 2008-02-18 08:37:00+00:00        [botnet]   \n",
       "1 2008-03-21 08:47:00+00:00        [botnet]   \n",
       "2 2008-04-09 04:41:00+00:00  [botnet, ddos]   \n",
       "3 2008-04-15 07:57:00+00:00        [botnet]   \n",
       "4 2008-04-24 12:11:00+00:00        [botnet]   \n",
       "\n",
       "                                           word_list  \n",
       "0  [buying, botnet, im, a, good, with, alot, of, ...  \n",
       "1  [botnet, with, undetected, server, 4sale, hey,...  \n",
       "2  [interested, in, purchasing, a, botnet, im, as...  \n",
       "3  [trojans, botnet, source, keyloggers, packers,...  \n",
       "4  [professional, bulletproof, hosting, service, ...  "
      ]
     },
     "execution_count": 17,
     "metadata": {},
     "output_type": "execute_result"
    }
   ],
   "source": [
    "threads_df = pd.DataFrame(related_threads_data)\n",
    "threads_df.head()"
   ]
  },
  {
   "cell_type": "markdown",
   "metadata": {},
   "source": [
    "### Data Analysis"
   ]
  },
  {
   "cell_type": "markdown",
   "metadata": {},
   "source": [
    "#### Terms appearances\n",
    "\n",
    "Forum threads have been filtered by tech terms related with DDoS. Let's visualize most relevant terms according to the quantity of appearances "
   ]
  },
  {
   "cell_type": "code",
   "execution_count": 43,
   "metadata": {},
   "outputs": [
    {
     "data": {
      "text/plain": [
       "[]"
      ]
     },
     "execution_count": 43,
     "metadata": {},
     "output_type": "execute_result"
    },
    {
     "data": {
      "image/png": "[encoded data removed]",
      "text/plain": [
       "<Figure size 864x532.8 with 1 Axes>"
      ]
     },
     "metadata": {
      "needs_background": "light"
     },
     "output_type": "display_data"
    }
   ],
   "source": [
    "terms_count = dict()\n",
    "for terms_list in threads_df['matching_terms'].values:\n",
    "    for term in terms_list:\n",
    "        if term not in terms_count:\n",
    "            terms_count[term] = 0\n",
    "        terms_count[term] += 1\n",
    "\n",
    "#  plt.bar(terms_count.keys(), terms_count.values())\n",
    "terms_count_df = pd.DataFrame(\n",
    "    {'matches': terms_count.values()}, \n",
    "    index=terms_count.keys()\n",
    ")\n",
    "plt.rcParams['figure.figsize'] = (12, 7.4)\n",
    "terms_count_df['matches'].plot(kind='bar')\n",
    "plt.xticks(rotation=30, horizontalalignment=\"center\")\n",
    "plt.title(\"HF Threads - DDoS tech related terms appearances\")\n",
    "plt.xlabel(\"DDoS tech related term\")\n",
    "plt.ylabel(\"Appearances in HF threads\")\n",
    "plt.plot()"
   ]
  }
 ],
 "metadata": {
  "accelerator": "GPU",
  "colab": {
   "collapsed_sections": [],
   "name": "practica - Sergio Fernandez Garcia.ipynb",
   "provenance": []
  },
  "kernelspec": {
   "display_name": "Python 3 (ipykernel)",
   "language": "python",
   "name": "python3"
  },
  "language_info": {
   "codemirror_mode": {
    "name": "ipython",
    "version": 3
   },
   "file_extension": ".py",
   "mimetype": "text/x-python",
   "name": "python",
   "nbconvert_exporter": "python",
   "pygments_lexer": "ipython3",
   "version": "3.8.10"
  }
 },
 "nbformat": 4,
 "nbformat_minor": 1
}
