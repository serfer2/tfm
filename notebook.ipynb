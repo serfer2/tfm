{
 "cells": [
  {
   "cell_type": "markdown",
   "metadata": {
    "id": "9K0tconW2UKe"
   },
   "source": [
    "<div style=\"width: 100%; clear: both;\">\n",
    "  <div style=\"float: left; width: 50%;\">\n",
    "    <img src=\"http://www.uoc.edu/portal/_resources/common/imatges/marca_UOC/UOC_Masterbrand.jpg\", align=\"left\">\n",
    "  </div>\n",
    "  <div style=\"float: right; width: 50%;\">\n",
    "    <p style=\"padding-top: 42px; text-align:right;\">&nbsp;</p>\n",
    "    <p style=\"padding-top: 42px; text-align:right;\">M2.882 - TFM - Area 5 aula 1</p>\n",
    "    <p style=\"margin: 0; text-align:right;\">2021-1 · Máster universitario en Ciencia de datos (Data science)</p>\n",
    "  </div>\n",
    "   <div style=\"width:100%; clear: both;\">&nbsp;</div>\n",
    "</div>\n",
    "\n",
    "# PEC3 - Design & implementation\n",
    "\n",
    "## Sale of access IoT devices in underground forums"
   ]
  },
  {
   "cell_type": "markdown",
   "metadata": {
    "id": "qBR0rwVU5R4F"
   },
   "source": [
    "Autor: [Sergio Fernández García](mailto:serfer2@protonmail.com)"
   ]
  },
  {
   "cell_type": "code",
   "execution_count": 9,
   "metadata": {
    "id": "t9P5ozTBEqZz"
   },
   "outputs": [],
   "source": [
    "import matplotlib.pyplot as plt\n",
    "import pandas as pd\n",
    "import seaborn as sn\n",
    "from sklearn.feature_extraction.text import CountVectorizer\n",
    "from sklearn.feature_extraction.text import TfidfTransformer\n",
    "from sklearn.linear_model import SGDClassifier\n",
    "from sklearn.metrics import (\n",
    "    accuracy_score,\n",
    "    classification_report,\n",
    "    RocCurveDisplay,\n",
    ")\n",
    "from sklearn.naive_bayes import MultinomialNB\n",
    "from sklearn.neighbors import KNeighborsClassifier\n",
    "from sklearn.pipeline import Pipeline\n",
    "from sklearn.svm import LinearSVC"
   ]
  },
  {
   "cell_type": "markdown",
   "metadata": {
    "id": "xC5CIhkK5-zz"
   },
   "source": [
    "### Data source\n",
    "\n",
    "Given all threads from *Hack Forums* `Market` section, each document is a mix of data: Thread heading + First post content and timestamp.\n",
    "\n",
    "All threads from sub-forums in Market section have been pre-processed. We've built two datasets by filtering all DDoS related threads:\n",
    "\n",
    "- `ddos_full_dataset.csv`: (>40K docs) Full dataset with all market section documents related with DDoS.\n",
    "- `ddos_groundtruth_dataset.csv`: (4K docs) Data sample, randomly extracted from full dataset. Every doc category has been annotated by differenciating beteen `supply` and `demand`. This dataset is intended for training and testing text classification models.\n",
    "\n",
    "**NOTE:**\n",
    "\n",
    "All contents have been cleaned when building the datasets. So we've clean words, ready to work with it.\n",
    "\n",
    "Cleaning operations have been:\n",
    "\n",
    "- Lower case all text.\n",
    "- Removed: punctuation, accents, non-textual content like citing, images, urls, ... "
   ]
  },
  {
   "cell_type": "code",
   "execution_count": 10,
   "metadata": {
    "id": "t9P5ozTBEqZz"
   },
   "outputs": [
    {
     "name": "stdout",
     "output_type": "stream",
     "text": [
      "<class 'pandas.core.frame.DataFrame'>\n",
      "RangeIndex: 4071 entries, 0 to 4070\n",
      "Data columns (total 4 columns):\n",
      " #   Column          Non-Null Count  Dtype \n",
      "---  ------          --------------  ----- \n",
      " 0   content         4071 non-null   object\n",
      " 1   tstamp          4071 non-null   object\n",
      " 2   matching_terms  4071 non-null   object\n",
      " 3   category        4071 non-null   object\n",
      "dtypes: object(4)\n",
      "memory usage: 127.3+ KB\n"
     ]
    },
    {
     "data": {
      "text/html": [
       "<div>\n",
       "<style scoped>\n",
       "    .dataframe tbody tr th:only-of-type {\n",
       "        vertical-align: middle;\n",
       "    }\n",
       "\n",
       "    .dataframe tbody tr th {\n",
       "        vertical-align: top;\n",
       "    }\n",
       "\n",
       "    .dataframe thead th {\n",
       "        text-align: right;\n",
       "    }\n",
       "</style>\n",
       "<table border=\"1\" class=\"dataframe\">\n",
       "  <thead>\n",
       "    <tr style=\"text-align: right;\">\n",
       "      <th></th>\n",
       "      <th>content</th>\n",
       "      <th>tstamp</th>\n",
       "      <th>matching_terms</th>\n",
       "      <th>category</th>\n",
       "    </tr>\n",
       "  </thead>\n",
       "  <tbody>\n",
       "    <tr>\n",
       "      <th>0</th>\n",
       "      <td>selling botnet zombies i'm selling a botnet 15...</td>\n",
       "      <td>2008-05-03 12:51:00+00:00</td>\n",
       "      <td>['botnet']</td>\n",
       "      <td>supply</td>\n",
       "    </tr>\n",
       "    <tr>\n",
       "      <th>1</th>\n",
       "      <td>i want to buy a botnet i am paying 0 20$ for e...</td>\n",
       "      <td>2009-04-16 02:19:00+00:00</td>\n",
       "      <td>['botnet']</td>\n",
       "      <td>demand</td>\n",
       "    </tr>\n",
       "    <tr>\n",
       "      <th>2</th>\n",
       "      <td>i want to buy a botnet i want to buy a botnet ...</td>\n",
       "      <td>2009-04-18 01:48:00+00:00</td>\n",
       "      <td>['botnet']</td>\n",
       "      <td>demand</td>\n",
       "    </tr>\n",
       "    <tr>\n",
       "      <th>3</th>\n",
       "      <td>selling fud copies of bandook rat 6 months upd...</td>\n",
       "      <td>2009-05-27 09:35:00+00:00</td>\n",
       "      <td>['ddos']</td>\n",
       "      <td>supply</td>\n",
       "    </tr>\n",
       "    <tr>\n",
       "      <th>4</th>\n",
       "      <td>selling up to 300 bots $0 50 each hello i am s...</td>\n",
       "      <td>2009-05-30 05:07:00+00:00</td>\n",
       "      <td>['botnet']</td>\n",
       "      <td>supply</td>\n",
       "    </tr>\n",
       "  </tbody>\n",
       "</table>\n",
       "</div>"
      ],
      "text/plain": [
       "                                             content  \\\n",
       "0  selling botnet zombies i'm selling a botnet 15...   \n",
       "1  i want to buy a botnet i am paying 0 20$ for e...   \n",
       "2  i want to buy a botnet i want to buy a botnet ...   \n",
       "3  selling fud copies of bandook rat 6 months upd...   \n",
       "4  selling up to 300 bots $0 50 each hello i am s...   \n",
       "\n",
       "                      tstamp matching_terms category  \n",
       "0  2008-05-03 12:51:00+00:00     ['botnet']   supply  \n",
       "1  2009-04-16 02:19:00+00:00     ['botnet']   demand  \n",
       "2  2009-04-18 01:48:00+00:00     ['botnet']   demand  \n",
       "3  2009-05-27 09:35:00+00:00       ['ddos']   supply  \n",
       "4  2009-05-30 05:07:00+00:00     ['botnet']   supply  "
      ]
     },
     "execution_count": 10,
     "metadata": {},
     "output_type": "execute_result"
    }
   ],
   "source": [
    "# Load both datasets\n",
    "\n",
    "gtruth_df = pd.read_csv('datasets/ddos_ground_truth_dataset.csv')\n",
    "\n",
    "gtruth_df.info()\n",
    "gtruth_df.head()"
   ]
  },
  {
   "cell_type": "code",
   "execution_count": 11,
   "metadata": {},
   "outputs": [
    {
     "name": "stdout",
     "output_type": "stream",
     "text": [
      "{'demand': 0, 'supply': 1}\n"
     ]
    },
    {
     "data": {
      "text/html": [
       "<div>\n",
       "<style scoped>\n",
       "    .dataframe tbody tr th:only-of-type {\n",
       "        vertical-align: middle;\n",
       "    }\n",
       "\n",
       "    .dataframe tbody tr th {\n",
       "        vertical-align: top;\n",
       "    }\n",
       "\n",
       "    .dataframe thead th {\n",
       "        text-align: right;\n",
       "    }\n",
       "</style>\n",
       "<table border=\"1\" class=\"dataframe\">\n",
       "  <thead>\n",
       "    <tr style=\"text-align: right;\">\n",
       "      <th></th>\n",
       "      <th>content</th>\n",
       "      <th>tstamp</th>\n",
       "      <th>matching_terms</th>\n",
       "      <th>category</th>\n",
       "      <th>target</th>\n",
       "    </tr>\n",
       "  </thead>\n",
       "  <tbody>\n",
       "    <tr>\n",
       "      <th>0</th>\n",
       "      <td>selling botnet zombies i'm selling a botnet 15...</td>\n",
       "      <td>2008-05-03 12:51:00+00:00</td>\n",
       "      <td>['botnet']</td>\n",
       "      <td>supply</td>\n",
       "      <td>1</td>\n",
       "    </tr>\n",
       "    <tr>\n",
       "      <th>1</th>\n",
       "      <td>i want to buy a botnet i am paying 0 20$ for e...</td>\n",
       "      <td>2009-04-16 02:19:00+00:00</td>\n",
       "      <td>['botnet']</td>\n",
       "      <td>demand</td>\n",
       "      <td>0</td>\n",
       "    </tr>\n",
       "    <tr>\n",
       "      <th>2</th>\n",
       "      <td>i want to buy a botnet i want to buy a botnet ...</td>\n",
       "      <td>2009-04-18 01:48:00+00:00</td>\n",
       "      <td>['botnet']</td>\n",
       "      <td>demand</td>\n",
       "      <td>0</td>\n",
       "    </tr>\n",
       "    <tr>\n",
       "      <th>3</th>\n",
       "      <td>selling fud copies of bandook rat 6 months upd...</td>\n",
       "      <td>2009-05-27 09:35:00+00:00</td>\n",
       "      <td>['ddos']</td>\n",
       "      <td>supply</td>\n",
       "      <td>1</td>\n",
       "    </tr>\n",
       "    <tr>\n",
       "      <th>4</th>\n",
       "      <td>selling up to 300 bots $0 50 each hello i am s...</td>\n",
       "      <td>2009-05-30 05:07:00+00:00</td>\n",
       "      <td>['botnet']</td>\n",
       "      <td>supply</td>\n",
       "      <td>1</td>\n",
       "    </tr>\n",
       "  </tbody>\n",
       "</table>\n",
       "</div>"
      ],
      "text/plain": [
       "                                             content  \\\n",
       "0  selling botnet zombies i'm selling a botnet 15...   \n",
       "1  i want to buy a botnet i am paying 0 20$ for e...   \n",
       "2  i want to buy a botnet i want to buy a botnet ...   \n",
       "3  selling fud copies of bandook rat 6 months upd...   \n",
       "4  selling up to 300 bots $0 50 each hello i am s...   \n",
       "\n",
       "                      tstamp matching_terms category  target  \n",
       "0  2008-05-03 12:51:00+00:00     ['botnet']   supply       1  \n",
       "1  2009-04-16 02:19:00+00:00     ['botnet']   demand       0  \n",
       "2  2009-04-18 01:48:00+00:00     ['botnet']   demand       0  \n",
       "3  2009-05-27 09:35:00+00:00       ['ddos']   supply       1  \n",
       "4  2009-05-30 05:07:00+00:00     ['botnet']   supply       1  "
      ]
     },
     "execution_count": 11,
     "metadata": {},
     "output_type": "execute_result"
    }
   ],
   "source": [
    "# Categories as numeric values\n",
    "\n",
    "categories = {v: i for i, v in enumerate(set(gtruth_df['category'].values))}\n",
    "print(f'{categories}')\n",
    "labels = [l for l in categories.values()]\n",
    "target_names = [n for n in categories.keys()]\n",
    "\n",
    "gtruth_df['target'] = [categories[c] for c in gtruth_df['category']]\n",
    "gtruth_df.head()"
   ]
  },
  {
   "cell_type": "code",
   "execution_count": 12,
   "metadata": {},
   "outputs": [
    {
     "name": "stdout",
     "output_type": "stream",
     "text": [
      "(3257, 5)\n",
      "(814, 5)\n"
     ]
    }
   ],
   "source": [
    "# Split ground truth dataset for training and test (80/20 ratio)\n",
    "gtruth_training_df = gtruth_df.sample(frac=0.8)\n",
    "gtruth_testing_df = gtruth_df.drop(gtruth_training_df.index)\n",
    "\n",
    "print(f'{gtruth_training_df.shape}')\n",
    "print(f'{gtruth_testing_df.shape}')"
   ]
  },
  {
   "cell_type": "markdown",
   "metadata": {
    "id": "xC5CIhkK5-zz"
   },
   "source": [
    "### Data pre-process\n",
    "\n",
    "Since there are a lot of different words in corpus, we've a high dimensional dataset (too much different features).\n",
    "\n",
    "Building feature vectors with full word list is inefficient and can be unmanageable. This is why we're going to maintain in memory only non-zero parts of feature vectors.\n",
    "\n",
    "#### Tokenization:\n",
    "\n",
    "Before building feature vectors, tokenization is needed. It basically consists in breaking down text in term vectors and filtering *stop words*."
   ]
  },
  {
   "cell_type": "code",
   "execution_count": 13,
   "metadata": {},
   "outputs": [
    {
     "name": "stdout",
     "output_type": "stream",
     "text": [
      "(3257, 12537)\n"
     ]
    }
   ],
   "source": [
    "X_train_counts = CountVectorizer().fit_transform(gtruth_training_df['content'])\n",
    "print(f'{X_train_counts.shape}')"
   ]
  },
  {
   "cell_type": "markdown",
   "metadata": {},
   "source": [
    "#### Term Frequency\n",
    "\n",
    "Some thread contents are longer than others, it can result in a higher average count values than shorter ones, but they really talk about same topic (category).\n",
    "\n",
    "Among that, some words appears in many documents in the corpus. These *common* words are less informative, so we'll downscale weights for these words.\n",
    "\n",
    "In order to avoid this problem, we calculate *tf* and *tf-idf* (Term Frequency times Inverse Document Frequency). Both (*tf* and *tf-idf*) are computed by `TfidfTransformer`."
   ]
  },
  {
   "cell_type": "code",
   "execution_count": 14,
   "metadata": {
    "colab": {
     "base_uri": "https://localhost:8080/",
     "height": 547
    },
    "id": "W2aGSfS3Jmh2",
    "outputId": "276d3cc8-d09a-4ba0-96df-b4e87abd9487"
   },
   "outputs": [
    {
     "name": "stdout",
     "output_type": "stream",
     "text": [
      "(3257, 12537)\n"
     ]
    }
   ],
   "source": [
    "tfidf_transformer = TfidfTransformer()\n",
    "X_train_tfidf = tfidf_transformer.fit_transform(X_train_counts)\n",
    "print(f'{X_train_tfidf.shape}')"
   ]
  },
  {
   "cell_type": "markdown",
   "metadata": {},
   "source": [
    "### Model training\n",
    "\n",
    "We're going to test classification performance for four well-known models. These models are widely used in classification tasks:\n",
    "\n",
    "- LinearSVC: Linear Support Vector Classification.\n",
    "- SGD: Stochastic Gradient Descent.\n",
    "- K nearest Neighbor.\n",
    "- Multinomial Naive Bayes.\n",
    "\n",
    "Performance metrics to be analyzed are *precision*, *recall*, *F1-score* and occurrences of each class (*support*).\n",
    "\n",
    "Confusion matrix will show us ratio of correct and wrong classification between categories (only two categories in our case).\n"
   ]
  },
  {
   "cell_type": "code",
   "execution_count": 15,
   "metadata": {},
   "outputs": [],
   "source": [
    "def evaluate_model(model_name, x_test, y_test, classifier, labels, target_names):\n",
    "    # Prediction with test dataset\n",
    "    predicted = classifier.predict(x_test)\n",
    "\n",
    "    # Accuracy\n",
    "    accuracy = accuracy_score(y_true=gtruth_testing_df['target'], y_pred=predicted)\n",
    "    print(f'{model_name} accuracy: {accuracy:.02f}')\n",
    "\n",
    "    # Metrics\n",
    "    metrics = classification_report(\n",
    "        y_true=y_test,\n",
    "        y_pred=predicted,\n",
    "        labels=labels,\n",
    "        target_names=target_names,\n",
    "        output_dict=True,\n",
    "    )\n",
    "\n",
    "    # Confusion matrix\n",
    "    cfm = pd.crosstab(\n",
    "        y_test,\n",
    "        predicted,\n",
    "        rownames=['Category'],\n",
    "        colnames=['Pred. category'],\n",
    "    )\n",
    "\n",
    "    return predicted, metrics, cfm\n",
    "\n",
    "\n",
    "def plot_confusion_matrix(cfm, title):\n",
    "    ax = plt.axes()\n",
    "    sn.heatmap(cfm, annot=True, cmap='Blues', fmt='d', ax=ax)\n",
    "    ax.set_title(f'{title} - Confusion Matrix')\n",
    "    plt.show()"
   ]
  },
  {
   "cell_type": "markdown",
   "metadata": {},
   "source": [
    "#### LinearSVC"
   ]
  },
  {
   "cell_type": "code",
   "execution_count": 16,
   "metadata": {},
   "outputs": [
    {
     "name": "stdout",
     "output_type": "stream",
     "text": [
      "LinearSVC accuracy: 0.96\n"
     ]
    },
    {
     "data": {
      "image/png": "[encoded data removed]",
      "text/plain": [
       "<Figure size 432x288 with 2 Axes>"
      ]
     },
     "metadata": {
      "needs_background": "light"
     },
     "output_type": "display_data"
    }
   ],
   "source": [
    "linear_svc_text_classifier = Pipeline(\n",
    "    steps=[\n",
    "        ('vectorizer', CountVectorizer()),\n",
    "        ('tfidf', TfidfTransformer()),\n",
    "        ('classifier', LinearSVC(random_state=0, tol=1e-05)),\n",
    "    ]\n",
    ")\n",
    "\n",
    "# Training\n",
    "linear_svc_text_classifier.fit(\n",
    "    X=gtruth_training_df['content'],\n",
    "    y=gtruth_training_df['target'],\n",
    ")\n",
    "\n",
    "# Prediction & model evaluation\n",
    "linear_svc_predicted, _linear_svc_metrics, linear_svc_cfm = evaluate_model(\n",
    "    model_name='LinearSVC',\n",
    "    x_test=gtruth_testing_df['content'],\n",
    "    y_test=gtruth_testing_df['target'],\n",
    "    classifier=linear_svc_text_classifier,\n",
    "    labels=labels,\n",
    "    target_names=target_names,\n",
    ")\n",
    "linear_svc_metrics = _linear_svc_metrics.get('macro avg')\n",
    "linear_svc_metrics['accuracy'] = _linear_svc_metrics.get('accuracy')\n",
    "\n",
    "plot_confusion_matrix(cfm=linear_svc_cfm, title='LinearSVC')"
   ]
  },
  {
   "cell_type": "markdown",
   "metadata": {},
   "source": [
    "#### Stochastic Gradient Descent (SGD)"
   ]
  },
  {
   "cell_type": "code",
   "execution_count": 17,
   "metadata": {},
   "outputs": [
    {
     "name": "stdout",
     "output_type": "stream",
     "text": [
      "Stochastic Gradient Descent (SGD) accuracy: 0.93\n"
     ]
    },
    {
     "data": {
      "image/png": "[encoded data removed]",
      "text/plain": [
       "<Figure size 432x288 with 2 Axes>"
      ]
     },
     "metadata": {
      "needs_background": "light"
     },
     "output_type": "display_data"
    }
   ],
   "source": [
    "sgd_model = SGDClassifier(\n",
    "    loss='hinge',\n",
    "    penalty='l2',\n",
    "    alpha=1e-3,\n",
    "    random_state=42,\n",
    "    max_iter=5,\n",
    "    tol=None,\n",
    ")\n",
    "sgd_text_classifier = Pipeline(\n",
    "    steps=[\n",
    "        ('vectorizer', CountVectorizer()),\n",
    "        ('tfidf', TfidfTransformer()),\n",
    "        ('classifier', sgd_model),\n",
    "    ]\n",
    ")\n",
    "\n",
    "# Training\n",
    "sgd_text_classifier.fit(\n",
    "    X=gtruth_training_df['content'],\n",
    "    y=gtruth_training_df['target'],\n",
    ")\n",
    "\n",
    "# Prediction & model evaluation\n",
    "sgd_predicted, _sgd_metrics, sgd_cfm = evaluate_model(\n",
    "    model_name='Stochastic Gradient Descent (SGD)',\n",
    "    x_test=gtruth_testing_df['content'],\n",
    "    y_test=gtruth_testing_df['target'],\n",
    "    classifier=sgd_text_classifier,\n",
    "    labels=labels,\n",
    "    target_names=target_names,\n",
    ")\n",
    "sgd_metrics = _sgd_metrics.get('macro avg')\n",
    "sgd_metrics['accuracy'] = _sgd_metrics.get('accuracy')\n",
    "\n",
    "plot_confusion_matrix(cfm=sgd_cfm, title='Stochastic Gradient Descent (SGD)')"
   ]
  },
  {
   "cell_type": "markdown",
   "metadata": {},
   "source": [
    "#### K-nearest neighbors"
   ]
  },
  {
   "cell_type": "code",
   "execution_count": 18,
   "metadata": {},
   "outputs": [
    {
     "name": "stdout",
     "output_type": "stream",
     "text": [
      "K-nearest neighbors accuracy: 0.79\n"
     ]
    },
    {
     "data": {
      "image/png": "[encoded data removed]",
      "text/plain": [
       "<Figure size 432x288 with 2 Axes>"
      ]
     },
     "metadata": {
      "needs_background": "light"
     },
     "output_type": "display_data"
    }
   ],
   "source": [
    "knn_text_classifier = Pipeline(\n",
    "    steps=[\n",
    "        ('vectorizer', CountVectorizer()),\n",
    "        ('tfidf', TfidfTransformer()),\n",
    "        ('classifier', KNeighborsClassifier(n_neighbors=12)),\n",
    "    ]\n",
    ")\n",
    "\n",
    "# Training\n",
    "knn_text_classifier.fit(\n",
    "    X=gtruth_training_df['content'],\n",
    "    y=gtruth_training_df['target'],\n",
    ")\n",
    "\n",
    "# Prediction & model evaluation\n",
    "knn_predicted, _knn_metrics, knn_cfm = evaluate_model(\n",
    "    model_name='K-nearest neighbors',\n",
    "    x_test=gtruth_testing_df['content'],\n",
    "    y_test=gtruth_testing_df['target'],\n",
    "    classifier=knn_text_classifier,\n",
    "    labels=labels,\n",
    "    target_names=target_names,\n",
    ")\n",
    "knn_metrics = _knn_metrics.get('macro avg')\n",
    "knn_metrics['accuracy'] = _knn_metrics.get('accuracy')\n",
    "\n",
    "plot_confusion_matrix(cfm=knn_cfm, title='K-nearest neighbors')"
   ]
  },
  {
   "cell_type": "markdown",
   "metadata": {},
   "source": [
    "#### Multinomial Naïve Bayes"
   ]
  },
  {
   "cell_type": "code",
   "execution_count": 19,
   "metadata": {},
   "outputs": [
    {
     "name": "stdout",
     "output_type": "stream",
     "text": [
      "Multinomial Naïve Bayes accuracy: 0.89\n"
     ]
    },
    {
     "data": {
      "image/png": "[encoded data removed]",
      "text/plain": [
       "<Figure size 432x288 with 2 Axes>"
      ]
     },
     "metadata": {
      "needs_background": "light"
     },
     "output_type": "display_data"
    }
   ],
   "source": [
    "mnb_text_classifier = Pipeline(\n",
    "    steps=[\n",
    "        ('vectorizer', CountVectorizer()),\n",
    "        ('tfidf', TfidfTransformer()),\n",
    "        ('classifier', MultinomialNB()),\n",
    "    ]\n",
    ")\n",
    "\n",
    "# Training\n",
    "mnb_text_classifier.fit(\n",
    "    X=gtruth_training_df['content'],\n",
    "    y=gtruth_training_df['target'],\n",
    ")\n",
    "\n",
    "# Prediction & model evaluation\n",
    "mnb_predicted, _mnb_metrics, mnb_cfm = evaluate_model(\n",
    "    model_name='Multinomial Naïve Bayes',\n",
    "    x_test=gtruth_testing_df['content'],\n",
    "    y_test=gtruth_testing_df['target'],\n",
    "    classifier=mnb_text_classifier,\n",
    "    labels=labels,\n",
    "    target_names=target_names,\n",
    ")\n",
    "mnb_metrics = _mnb_metrics.get('macro avg')\n",
    "mnb_metrics['accuracy'] = _mnb_metrics.get('accuracy')\n",
    "\n",
    "plot_confusion_matrix(cfm=mnb_cfm, title='Multinomial Naïve Bayes')"
   ]
  },
  {
   "cell_type": "markdown",
   "metadata": {},
   "source": [
    "### Model evaluation"
   ]
  },
  {
   "cell_type": "code",
   "execution_count": 20,
   "metadata": {},
   "outputs": [],
   "source": [
    "models_report = {}\n",
    "models_report = pd.DataFrame({\n",
    "    'model': ['Linear Support Vector Classification.', 'Stochastic Gradient Descent', 'K-nearest Neighbor', 'Multinomial Naïve Bayes'],\n",
    "    'accuracy': [linear_svc_metrics['accuracy'], sgd_metrics['accuracy'], knn_metrics['accuracy'], mnb_metrics['accuracy'],],\n",
    "    'precision': [linear_svc_metrics['precision'], sgd_metrics['precision'], knn_metrics['precision'], mnb_metrics['precision'],],\n",
    "    'recall': [linear_svc_metrics['recall'], sgd_metrics['recall'], knn_metrics['recall'], mnb_metrics['recall'],],\n",
    "    'F1 score': [linear_svc_metrics['f1-score'], sgd_metrics['f1-score'], knn_metrics['f1-score'], mnb_metrics['f1-score'],],\n",
    "}).sort_values(\n",
    "    by='accuracy',\n",
    "    ascending=False\n",
    ")"
   ]
  },
  {
   "cell_type": "markdown",
   "metadata": {},
   "source": [
    "#### Metrics"
   ]
  },
  {
   "cell_type": "code",
   "execution_count": 21,
   "metadata": {},
   "outputs": [
    {
     "data": {
      "text/html": [
       "<div>\n",
       "<style scoped>\n",
       "    .dataframe tbody tr th:only-of-type {\n",
       "        vertical-align: middle;\n",
       "    }\n",
       "\n",
       "    .dataframe tbody tr th {\n",
       "        vertical-align: top;\n",
       "    }\n",
       "\n",
       "    .dataframe thead th {\n",
       "        text-align: right;\n",
       "    }\n",
       "</style>\n",
       "<table border=\"1\" class=\"dataframe\">\n",
       "  <thead>\n",
       "    <tr style=\"text-align: right;\">\n",
       "      <th></th>\n",
       "      <th>model</th>\n",
       "      <th>accuracy</th>\n",
       "      <th>precision</th>\n",
       "      <th>recall</th>\n",
       "      <th>F1 score</th>\n",
       "    </tr>\n",
       "  </thead>\n",
       "  <tbody>\n",
       "    <tr>\n",
       "      <th>0</th>\n",
       "      <td>Linear Support Vector Classification.</td>\n",
       "      <td>0.957002</td>\n",
       "      <td>0.958582</td>\n",
       "      <td>0.956863</td>\n",
       "      <td>0.956955</td>\n",
       "    </tr>\n",
       "    <tr>\n",
       "      <th>1</th>\n",
       "      <td>Stochastic Gradient Descent</td>\n",
       "      <td>0.928747</td>\n",
       "      <td>0.933106</td>\n",
       "      <td>0.928504</td>\n",
       "      <td>0.928538</td>\n",
       "    </tr>\n",
       "    <tr>\n",
       "      <th>3</th>\n",
       "      <td>Multinomial Naïve Bayes</td>\n",
       "      <td>0.889435</td>\n",
       "      <td>0.892287</td>\n",
       "      <td>0.889227</td>\n",
       "      <td>0.889193</td>\n",
       "    </tr>\n",
       "    <tr>\n",
       "      <th>2</th>\n",
       "      <td>K-nearest Neighbor</td>\n",
       "      <td>0.785012</td>\n",
       "      <td>0.787349</td>\n",
       "      <td>0.785230</td>\n",
       "      <td>0.784658</td>\n",
       "    </tr>\n",
       "  </tbody>\n",
       "</table>\n",
       "</div>"
      ],
      "text/plain": [
       "                                   model  accuracy  precision    recall  \\\n",
       "0  Linear Support Vector Classification.  0.957002   0.958582  0.956863   \n",
       "1            Stochastic Gradient Descent  0.928747   0.933106  0.928504   \n",
       "3                Multinomial Naïve Bayes  0.889435   0.892287  0.889227   \n",
       "2                     K-nearest Neighbor  0.785012   0.787349  0.785230   \n",
       "\n",
       "   F1 score  \n",
       "0  0.956955  \n",
       "1  0.928538  \n",
       "3  0.889193  \n",
       "2  0.784658  "
      ]
     },
     "execution_count": 21,
     "metadata": {},
     "output_type": "execute_result"
    }
   ],
   "source": [
    "models_report"
   ]
  },
  {
   "cell_type": "markdown",
   "metadata": {},
   "source": [
    "#### ROC curve"
   ]
  },
  {
   "cell_type": "code",
   "execution_count": 22,
   "metadata": {},
   "outputs": [
    {
     "data": {
      "image/png": "[encoded data removed]",
      "text/plain": [
       "<Figure size 864x432 with 1 Axes>"
      ]
     },
     "metadata": {
      "needs_background": "light"
     },
     "output_type": "display_data"
    }
   ],
   "source": [
    "fig, ax = plt.subplots(1, 1, figsize=(12, 6))\n",
    "RocCurveDisplay.from_estimator(linear_svc_text_classifier, gtruth_testing_df['content'], gtruth_testing_df['target'], ax=ax, name='LinearSVC')\n",
    "RocCurveDisplay.from_estimator(sgd_text_classifier, gtruth_testing_df['content'], gtruth_testing_df['target'], ax=ax, name='Stochastic Gradient Descent')\n",
    "RocCurveDisplay.from_estimator(mnb_text_classifier, gtruth_testing_df['content'], gtruth_testing_df['target'], ax=ax, name='Multinomial Naïve Bayes')\n",
    "RocCurveDisplay.from_estimator(knn_text_classifier, gtruth_testing_df['content'], gtruth_testing_df['target'], ax=ax, name='K-nearest Neighbor')\n",
    "ax.grid(linestyle=\"--\")\n",
    "plt.show()"
   ]
  },
  {
   "cell_type": "markdown",
   "metadata": {},
   "source": [
    "### Data Analysis\n",
    "\n",
    "Once we've selected a model, it's time to analyse full dataset.\n",
    "\n",
    "First, we need to load full dataset and label docs according to model predictions."
   ]
  },
  {
   "cell_type": "code",
   "execution_count": 26,
   "metadata": {},
   "outputs": [
    {
     "data": {
      "text/html": [
       "<div>\n",
       "<style scoped>\n",
       "    .dataframe tbody tr th:only-of-type {\n",
       "        vertical-align: middle;\n",
       "    }\n",
       "\n",
       "    .dataframe tbody tr th {\n",
       "        vertical-align: top;\n",
       "    }\n",
       "\n",
       "    .dataframe thead th {\n",
       "        text-align: right;\n",
       "    }\n",
       "</style>\n",
       "<table border=\"1\" class=\"dataframe\">\n",
       "  <thead>\n",
       "    <tr style=\"text-align: right;\">\n",
       "      <th></th>\n",
       "      <th>content</th>\n",
       "      <th>tstamp</th>\n",
       "      <th>matching_terms</th>\n",
       "      <th>category</th>\n",
       "      <th>category_name</th>\n",
       "    </tr>\n",
       "  </thead>\n",
       "  <tbody>\n",
       "    <tr>\n",
       "      <th>0</th>\n",
       "      <td>buying botnet im buying a good botnet with alo...</td>\n",
       "      <td>2008-02-18 08:37:00+00:00</td>\n",
       "      <td>['botnet']</td>\n",
       "      <td>0</td>\n",
       "      <td>demand</td>\n",
       "    </tr>\n",
       "    <tr>\n",
       "      <th>1</th>\n",
       "      <td>botnet with undetected server 4sale hey people...</td>\n",
       "      <td>2008-03-21 08:47:00+00:00</td>\n",
       "      <td>['botnet']</td>\n",
       "      <td>1</td>\n",
       "      <td>supply</td>\n",
       "    </tr>\n",
       "    <tr>\n",
       "      <th>2</th>\n",
       "      <td>interested in purchasing a botnet im intereste...</td>\n",
       "      <td>2008-04-09 04:41:00+00:00</td>\n",
       "      <td>['botnet', 'ddos']</td>\n",
       "      <td>0</td>\n",
       "      <td>demand</td>\n",
       "    </tr>\n",
       "    <tr>\n",
       "      <th>3</th>\n",
       "      <td>trojans botnet source keyloggers packers crypt...</td>\n",
       "      <td>2008-04-15 07:57:00+00:00</td>\n",
       "      <td>['botnet']</td>\n",
       "      <td>1</td>\n",
       "      <td>supply</td>\n",
       "    </tr>\n",
       "    <tr>\n",
       "      <th>4</th>\n",
       "      <td>professional bulletproof hosting service from ...</td>\n",
       "      <td>2008-04-24 12:11:00+00:00</td>\n",
       "      <td>['botnet']</td>\n",
       "      <td>1</td>\n",
       "      <td>supply</td>\n",
       "    </tr>\n",
       "  </tbody>\n",
       "</table>\n",
       "</div>"
      ],
      "text/plain": [
       "                                             content  \\\n",
       "0  buying botnet im buying a good botnet with alo...   \n",
       "1  botnet with undetected server 4sale hey people...   \n",
       "2  interested in purchasing a botnet im intereste...   \n",
       "3  trojans botnet source keyloggers packers crypt...   \n",
       "4  professional bulletproof hosting service from ...   \n",
       "\n",
       "                      tstamp      matching_terms  category category_name  \n",
       "0  2008-02-18 08:37:00+00:00          ['botnet']         0        demand  \n",
       "1  2008-03-21 08:47:00+00:00          ['botnet']         1        supply  \n",
       "2  2008-04-09 04:41:00+00:00  ['botnet', 'ddos']         0        demand  \n",
       "3  2008-04-15 07:57:00+00:00          ['botnet']         1        supply  \n",
       "4  2008-04-24 12:11:00+00:00          ['botnet']         1        supply  "
      ]
     },
     "execution_count": 26,
     "metadata": {},
     "output_type": "execute_result"
    }
   ],
   "source": [
    "# Load full dataset\n",
    "full_df = pd.read_csv('datasets/ddos_full_dataset.csv')\n",
    "full_df.head()\n",
    "\n",
    "# Label documents\n",
    "categories_by_value = {v: k for k, v in categories.items()}  # {'demand': 0, 'supply': 1} -> {0: 'demand', 1: 'supply'}\n",
    "labeled_full_df = full_df.copy()\n",
    "labeled_full_df['category'] = linear_svc_text_classifier.predict(full_df['content'])\n",
    "labeled_full_df['category_name'] = [categories_by_value[value] for value in labeled_full_df['category']]\n",
    "labeled_full_df.head()"
   ]
  },
  {
   "cell_type": "markdown",
   "metadata": {},
   "source": [
    "#### Labels evolution over time\n",
    "\n",
    "Our purpose is to analyse supply and demand evolution over time. \n",
    "\n",
    "Then we'll extract relevant information as frequent tech terms, contact methods, preferred payment methods, prices and so on."
   ]
  }
 ],
 "metadata": {
  "accelerator": "GPU",
  "colab": {
   "collapsed_sections": [],
   "name": "practica - Sergio Fernandez Garcia.ipynb",
   "provenance": []
  },
  "kernelspec": {
   "display_name": "Python 3 (ipykernel)",
   "language": "python",
   "name": "python3"
  },
  "language_info": {
   "codemirror_mode": {
    "name": "ipython",
    "version": 3
   },
   "file_extension": ".py",
   "mimetype": "text/x-python",
   "name": "python",
   "nbconvert_exporter": "python",
   "pygments_lexer": "ipython3",
   "version": "3.8.10"
  }
 },
 "nbformat": 4,
 "nbformat_minor": 1
}
