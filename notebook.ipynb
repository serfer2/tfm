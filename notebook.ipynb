{
 "cells": [
  {
   "cell_type": "markdown",
   "metadata": {
    "id": "9K0tconW2UKe"
   },
   "source": [
    "<div style=\"width: 100%; clear: both;\">\n",
    "  <div style=\"float: left; width: 50%;\">\n",
    "    <img src=\"http://www.uoc.edu/portal/_resources/common/imatges/marca_UOC/UOC_Masterbrand.jpg\", align=\"left\">\n",
    "  </div>\n",
    "  <div style=\"float: right; width: 50%;\">\n",
    "    <p style=\"padding-top: 42px; text-align:right;\">&nbsp;</p>\n",
    "    <p style=\"padding-top: 42px; text-align:right;\">M2.882 - TFM - Area 5 aula 1</p>\n",
    "    <p style=\"margin: 0; text-align:right;\">2021-1 · Máster universitario en Ciencia de datos (Data science)</p>\n",
    "  </div>\n",
    "   <div style=\"width:100%; clear: both;\">&nbsp;</div>\n",
    "</div>\n",
    "\n",
    "# PEC3 - Design & implementation\n",
    "\n",
    "## Sale of access IoT devices in underground forums"
   ]
  },
  {
   "cell_type": "markdown",
   "metadata": {
    "id": "qBR0rwVU5R4F"
   },
   "source": [
    "Autor: [Sergio Fernández García](mailto:serfer2@protonmail.com)"
   ]
  },
  {
   "cell_type": "code",
   "execution_count": 53,
   "metadata": {
    "id": "t9P5ozTBEqZz"
   },
   "outputs": [],
   "source": [
    "import matplotlib.pyplot as plt\n",
    "import pandas as pd\n",
    "import seaborn as sn\n",
    "from sklearn.feature_extraction.text import CountVectorizer\n",
    "from sklearn.feature_extraction.text import TfidfTransformer\n",
    "from sklearn.linear_model import SGDClassifier\n",
    "from sklearn.metrics import (\n",
    "    accuracy_score,\n",
    "    classification_report,\n",
    "    confusion_matrix,\n",
    ")\n",
    "from sklearn.naive_bayes import MultinomialNB\n",
    "from sklearn.neighbors import KNeighborsClassifier\n",
    "from sklearn.pipeline import Pipeline\n",
    "from sklearn.svm import LinearSVC"
   ]
  },
  {
   "cell_type": "markdown",
   "metadata": {
    "id": "xC5CIhkK5-zz"
   },
   "source": [
    "### Data source\n",
    "\n",
    "Given all threads from *Hack Forums* `Market` section, each document is a mix of data: Thread heading + First post content and timestamp.\n",
    "\n",
    "All threads from sub-forums in Market section have been pre-processed. We've built two datasets by filtering all DDoS related threads:\n",
    "\n",
    "- `ddos_full_dataset.csv`: (>40K docs) Full dataset with all market section documents related with DDoS.\n",
    "- `ddos_groundtruth_dataset.csv`: (4K docs) Data sample, randomly extracted from full dataset. Every doc category has been annotated by differenciating beteen `supply` and `demand`.\n",
    "\n",
    "**NOTE:**\n",
    "\n",
    "All contents have been cleaned when building the datasets. So we've clean words, ready to work with it.\n",
    "\n",
    "Cleaning operations have been:\n",
    "\n",
    "- Lower case all text.\n",
    "- Removed: punctuation, accents, non-textual content like citing, images, urls, ... "
   ]
  },
  {
   "cell_type": "code",
   "execution_count": 2,
   "metadata": {
    "id": "t9P5ozTBEqZz"
   },
   "outputs": [
    {
     "name": "stdout",
     "output_type": "stream",
     "text": [
      "<class 'pandas.core.frame.DataFrame'>\n",
      "RangeIndex: 4071 entries, 0 to 4070\n",
      "Data columns (total 4 columns):\n",
      " #   Column          Non-Null Count  Dtype \n",
      "---  ------          --------------  ----- \n",
      " 0   content         4071 non-null   object\n",
      " 1   tstamp          4071 non-null   object\n",
      " 2   matching_terms  4071 non-null   object\n",
      " 3   category        4071 non-null   object\n",
      "dtypes: object(4)\n",
      "memory usage: 127.3+ KB\n"
     ]
    },
    {
     "data": {
      "text/html": [
       "<div>\n",
       "<style scoped>\n",
       "    .dataframe tbody tr th:only-of-type {\n",
       "        vertical-align: middle;\n",
       "    }\n",
       "\n",
       "    .dataframe tbody tr th {\n",
       "        vertical-align: top;\n",
       "    }\n",
       "\n",
       "    .dataframe thead th {\n",
       "        text-align: right;\n",
       "    }\n",
       "</style>\n",
       "<table border=\"1\" class=\"dataframe\">\n",
       "  <thead>\n",
       "    <tr style=\"text-align: right;\">\n",
       "      <th></th>\n",
       "      <th>content</th>\n",
       "      <th>tstamp</th>\n",
       "      <th>matching_terms</th>\n",
       "      <th>category</th>\n",
       "    </tr>\n",
       "  </thead>\n",
       "  <tbody>\n",
       "    <tr>\n",
       "      <th>0</th>\n",
       "      <td>selling botnet zombies i'm selling a botnet 15...</td>\n",
       "      <td>2008-05-03 12:51:00+00:00</td>\n",
       "      <td>['botnet']</td>\n",
       "      <td>supply</td>\n",
       "    </tr>\n",
       "    <tr>\n",
       "      <th>1</th>\n",
       "      <td>i want to buy a botnet i am paying 0 20$ for e...</td>\n",
       "      <td>2009-04-16 02:19:00+00:00</td>\n",
       "      <td>['botnet']</td>\n",
       "      <td>demand</td>\n",
       "    </tr>\n",
       "    <tr>\n",
       "      <th>2</th>\n",
       "      <td>i want to buy a botnet i want to buy a botnet ...</td>\n",
       "      <td>2009-04-18 01:48:00+00:00</td>\n",
       "      <td>['botnet']</td>\n",
       "      <td>demand</td>\n",
       "    </tr>\n",
       "    <tr>\n",
       "      <th>3</th>\n",
       "      <td>selling fud copies of bandook rat 6 months upd...</td>\n",
       "      <td>2009-05-27 09:35:00+00:00</td>\n",
       "      <td>['ddos']</td>\n",
       "      <td>supply</td>\n",
       "    </tr>\n",
       "    <tr>\n",
       "      <th>4</th>\n",
       "      <td>selling up to 300 bots $0 50 each hello i am s...</td>\n",
       "      <td>2009-05-30 05:07:00+00:00</td>\n",
       "      <td>['botnet']</td>\n",
       "      <td>supply</td>\n",
       "    </tr>\n",
       "  </tbody>\n",
       "</table>\n",
       "</div>"
      ],
      "text/plain": [
       "                                             content  \\\n",
       "0  selling botnet zombies i'm selling a botnet 15...   \n",
       "1  i want to buy a botnet i am paying 0 20$ for e...   \n",
       "2  i want to buy a botnet i want to buy a botnet ...   \n",
       "3  selling fud copies of bandook rat 6 months upd...   \n",
       "4  selling up to 300 bots $0 50 each hello i am s...   \n",
       "\n",
       "                      tstamp matching_terms category  \n",
       "0  2008-05-03 12:51:00+00:00     ['botnet']   supply  \n",
       "1  2009-04-16 02:19:00+00:00     ['botnet']   demand  \n",
       "2  2009-04-18 01:48:00+00:00     ['botnet']   demand  \n",
       "3  2009-05-27 09:35:00+00:00       ['ddos']   supply  \n",
       "4  2009-05-30 05:07:00+00:00     ['botnet']   supply  "
      ]
     },
     "execution_count": 2,
     "metadata": {},
     "output_type": "execute_result"
    }
   ],
   "source": [
    "# Load both datasets\n",
    "\n",
    "full_df = pd.read_csv('datasets/ddos_full_dataset.csv')\n",
    "gtruth_df = pd.read_csv('datasets/ddos_ground_truth_dataset.csv')\n",
    "\n",
    "gtruth_df.info()\n",
    "gtruth_df.head()"
   ]
  },
  {
   "cell_type": "code",
   "execution_count": 41,
   "metadata": {},
   "outputs": [
    {
     "name": "stdout",
     "output_type": "stream",
     "text": [
      "{'supply': 0, 'demand': 1}\n"
     ]
    },
    {
     "data": {
      "text/html": [
       "<div>\n",
       "<style scoped>\n",
       "    .dataframe tbody tr th:only-of-type {\n",
       "        vertical-align: middle;\n",
       "    }\n",
       "\n",
       "    .dataframe tbody tr th {\n",
       "        vertical-align: top;\n",
       "    }\n",
       "\n",
       "    .dataframe thead th {\n",
       "        text-align: right;\n",
       "    }\n",
       "</style>\n",
       "<table border=\"1\" class=\"dataframe\">\n",
       "  <thead>\n",
       "    <tr style=\"text-align: right;\">\n",
       "      <th></th>\n",
       "      <th>content</th>\n",
       "      <th>tstamp</th>\n",
       "      <th>matching_terms</th>\n",
       "      <th>category</th>\n",
       "      <th>target</th>\n",
       "    </tr>\n",
       "  </thead>\n",
       "  <tbody>\n",
       "    <tr>\n",
       "      <th>0</th>\n",
       "      <td>selling botnet zombies i'm selling a botnet 15...</td>\n",
       "      <td>2008-05-03 12:51:00+00:00</td>\n",
       "      <td>['botnet']</td>\n",
       "      <td>supply</td>\n",
       "      <td>0</td>\n",
       "    </tr>\n",
       "    <tr>\n",
       "      <th>1</th>\n",
       "      <td>i want to buy a botnet i am paying 0 20$ for e...</td>\n",
       "      <td>2009-04-16 02:19:00+00:00</td>\n",
       "      <td>['botnet']</td>\n",
       "      <td>demand</td>\n",
       "      <td>1</td>\n",
       "    </tr>\n",
       "    <tr>\n",
       "      <th>2</th>\n",
       "      <td>i want to buy a botnet i want to buy a botnet ...</td>\n",
       "      <td>2009-04-18 01:48:00+00:00</td>\n",
       "      <td>['botnet']</td>\n",
       "      <td>demand</td>\n",
       "      <td>1</td>\n",
       "    </tr>\n",
       "    <tr>\n",
       "      <th>3</th>\n",
       "      <td>selling fud copies of bandook rat 6 months upd...</td>\n",
       "      <td>2009-05-27 09:35:00+00:00</td>\n",
       "      <td>['ddos']</td>\n",
       "      <td>supply</td>\n",
       "      <td>0</td>\n",
       "    </tr>\n",
       "    <tr>\n",
       "      <th>4</th>\n",
       "      <td>selling up to 300 bots $0 50 each hello i am s...</td>\n",
       "      <td>2009-05-30 05:07:00+00:00</td>\n",
       "      <td>['botnet']</td>\n",
       "      <td>supply</td>\n",
       "      <td>0</td>\n",
       "    </tr>\n",
       "  </tbody>\n",
       "</table>\n",
       "</div>"
      ],
      "text/plain": [
       "                                             content  \\\n",
       "0  selling botnet zombies i'm selling a botnet 15...   \n",
       "1  i want to buy a botnet i am paying 0 20$ for e...   \n",
       "2  i want to buy a botnet i want to buy a botnet ...   \n",
       "3  selling fud copies of bandook rat 6 months upd...   \n",
       "4  selling up to 300 bots $0 50 each hello i am s...   \n",
       "\n",
       "                      tstamp matching_terms category  target  \n",
       "0  2008-05-03 12:51:00+00:00     ['botnet']   supply       0  \n",
       "1  2009-04-16 02:19:00+00:00     ['botnet']   demand       1  \n",
       "2  2009-04-18 01:48:00+00:00     ['botnet']   demand       1  \n",
       "3  2009-05-27 09:35:00+00:00       ['ddos']   supply       0  \n",
       "4  2009-05-30 05:07:00+00:00     ['botnet']   supply       0  "
      ]
     },
     "execution_count": 41,
     "metadata": {},
     "output_type": "execute_result"
    }
   ],
   "source": [
    "# Categories as numeric values\n",
    "\n",
    "categories = {v: i for i, v in enumerate(set(gtruth_df['category'].values))}\n",
    "print(f'{categories}')\n",
    "labels = [l for l in categories.values()]\n",
    "target_names = [n for n in categories.keys()]\n",
    "\n",
    "gtruth_df['target'] = [categories[c] for c in gtruth_df['category']]\n",
    "gtruth_df.head()"
   ]
  },
  {
   "cell_type": "code",
   "execution_count": 4,
   "metadata": {},
   "outputs": [
    {
     "name": "stdout",
     "output_type": "stream",
     "text": [
      "(3257, 5)\n",
      "(814, 5)\n"
     ]
    }
   ],
   "source": [
    "# Split ground truth dataset for training and test (80/20 ratio)\n",
    "gtruth_training_df = gtruth_df.sample(frac=0.8)\n",
    "gtruth_testing_df = gtruth_df.drop(gtruth_training_df.index)\n",
    "\n",
    "print(f'{gtruth_training_df.shape}')\n",
    "print(f'{gtruth_testing_df.shape}')"
   ]
  },
  {
   "cell_type": "markdown",
   "metadata": {
    "id": "xC5CIhkK5-zz"
   },
   "source": [
    "### Data pre-process\n",
    "\n",
    "Since there are too a lot of different words in corpus, we've a high dimensional dataset (too much different features).\n",
    "\n",
    "Building feature vectors with full word list will is inefficient and can be unmanageable. This is why we're going to maintain in memory only non-zero parts of feature vectors.\n",
    "\n",
    "#### Tokenization:\n",
    "\n",
    "Before building feature vectors, tokenization is needed. It basically consists in breaking down text in term vectors and filtering *stop words*."
   ]
  },
  {
   "cell_type": "code",
   "execution_count": 5,
   "metadata": {},
   "outputs": [
    {
     "name": "stdout",
     "output_type": "stream",
     "text": [
      "(3257, 12645)\n"
     ]
    }
   ],
   "source": [
    "X_train_counts = CountVectorizer().fit_transform(gtruth_training_df['content'])\n",
    "print(f'{X_train_counts.shape}')"
   ]
  },
  {
   "cell_type": "markdown",
   "metadata": {},
   "source": [
    "#### Term Frequency\n",
    "\n",
    "Since some thread contents are longer than others, it can result in a higher average count values than shorter ones, but they really talk about same topic (category).\n",
    "\n",
    "Among that, some words appears in many documents in the corpus. These *common* words are less informative, so we will downscale weights for these words.\n",
    "\n",
    "In order to avoid this problem, we calculate *tf* and *tf-idf* (Term Frequency times Inverse Document Frequency). Both (*tf* and *tf-idf*) are computed by `TfidfTransformer`."
   ]
  },
  {
   "cell_type": "code",
   "execution_count": 6,
   "metadata": {
    "colab": {
     "base_uri": "https://localhost:8080/",
     "height": 547
    },
    "id": "W2aGSfS3Jmh2",
    "outputId": "276d3cc8-d09a-4ba0-96df-b4e87abd9487"
   },
   "outputs": [
    {
     "name": "stdout",
     "output_type": "stream",
     "text": [
      "(3257, 12645)\n"
     ]
    }
   ],
   "source": [
    "tfidf_transformer = TfidfTransformer()\n",
    "X_train_tfidf = tfidf_transformer.fit_transform(X_train_counts)\n",
    "print(f'{X_train_tfidf.shape}')"
   ]
  },
  {
   "cell_type": "markdown",
   "metadata": {},
   "source": [
    "### Model Selection\n",
    "\n",
    "We're going to test classification performance for four well-known models. These models are widely used in classification tasks:\n",
    "\n",
    "- LinearSVC: Linear Support Vector Classification.\n",
    "- SGD: Stochastic Gradient Descent.\n",
    "- K nearest Neighbor.\n",
    "- Multinomial Naive Bayes.\n",
    "\n",
    "Performance metrics to be analyzed are *precision*, *recall*, *F1-score* and occurrences of each class (*support*).\n",
    "\n",
    "Confusion matrix will show us ratio of correct and wrong classification between categories (only two categories in our case).\n"
   ]
  },
  {
   "cell_type": "code",
   "execution_count": 48,
   "metadata": {},
   "outputs": [],
   "source": [
    "def evaluate_model(model_name, x_test, y_test, classifier, labels, target_names):\n",
    "    # Prediction with test dataset\n",
    "    predicted = classifier.predict(x_test)\n",
    "\n",
    "    # Accuracy\n",
    "    accuracy = accuracy_score(y_true=gtruth_testing_df['target'], y_pred=linear_svc_predicted)\n",
    "    print(f'{model_name} accuracy: {accuracy:.02f}')\n",
    "\n",
    "    # Metrics\n",
    "    metrics = classification_report(\n",
    "        y_true=y_test,\n",
    "        y_pred=predicted,\n",
    "        labels=labels,\n",
    "        target_names=target_names,\n",
    "        output_dict=True,\n",
    "    )\n",
    "\n",
    "    # Confusion matrix\n",
    "    cfm = pd.crosstab(\n",
    "        y_test,\n",
    "        predicted,\n",
    "        rownames=['Category'],\n",
    "        colnames=['Pred. category'],\n",
    "    )\n",
    "\n",
    "    return predicted, metrics, cfm"
   ]
  },
  {
   "cell_type": "markdown",
   "metadata": {},
   "source": [
    "#### LinearSVC"
   ]
  },
  {
   "cell_type": "code",
   "execution_count": 57,
   "metadata": {},
   "outputs": [
    {
     "name": "stdout",
     "output_type": "stream",
     "text": [
      "LinearSVC accuracy: 0.96\n"
     ]
    },
    {
     "data": {
      "image/png": "[encoded data removed]",
      "text/plain": [
       "<Figure size 432x288 with 2 Axes>"
      ]
     },
     "metadata": {},
     "output_type": "display_data"
    }
   ],
   "source": [
    "linear_svc_text_classifier = Pipeline(\n",
    "    steps=[\n",
    "        ('vectorizer', CountVectorizer()),\n",
    "        ('tfidf', TfidfTransformer()),\n",
    "        ('classifier', LinearSVC(random_state=0, tol=1e-05)),\n",
    "    ]\n",
    ")\n",
    "\n",
    "# Training\n",
    "linear_svc_text_classifier.fit(\n",
    "    X=gtruth_training_df['content'],\n",
    "    y=gtruth_training_df['target'],\n",
    ")\n",
    "\n",
    "# Prediction & model evaluation\n",
    "linear_svc_predicted, linear_svc_metrics, linear_svc_cfm = evaluate_model(\n",
    "    model_name='LinearSVC',\n",
    "    x_test=gtruth_testing_df['content'],\n",
    "    y_test=gtruth_testing_df['target'],\n",
    "    classifier=linear_svc_text_classifier,\n",
    "    labels=labels,\n",
    "    target_names=target_names,\n",
    ")\n",
    "\n",
    "sn.heatmap(linear_svc_cfm, annot=True, cmap='Blues', fmt='d')\n",
    "plt.show()"
   ]
  },
  {
   "cell_type": "markdown",
   "metadata": {},
   "source": [
    "#### Stochastic Gradient Descent (SGD)"
   ]
  },
  {
   "cell_type": "code",
   "execution_count": 50,
   "metadata": {},
   "outputs": [
    {
     "name": "stdout",
     "output_type": "stream",
     "text": [
      "LinearSVC accuracy: 0.96\n"
     ]
    }
   ],
   "source": [
    "sgd_model = SGDClassifier(\n",
    "    loss='hinge',\n",
    "    penalty='l2',\n",
    "    alpha=1e-3,\n",
    "    random_state=42,\n",
    "    max_iter=5,\n",
    "    tol=None,\n",
    ")\n",
    "sgd_text_classifier = Pipeline(\n",
    "    steps=[\n",
    "        ('vectorizer', CountVectorizer()),\n",
    "        ('tfidf', TfidfTransformer()),\n",
    "        ('classifier', sgd_model),\n",
    "    ]\n",
    ")\n",
    "\n",
    "# Training\n",
    "sgd_text_classifier.fit(\n",
    "    X=gtruth_training_df['content'],\n",
    "    y=gtruth_training_df['target'],\n",
    ")\n",
    "\n",
    "# Prediction & model evaluation\n",
    "sgd_predicted, sgd_metrics, sgd_cfm = evaluate_model(\n",
    "    model_name='LinearSVC',\n",
    "    x_test=gtruth_testing_df['content'],\n",
    "    y_test=gtruth_testing_df['target'],\n",
    "    classifier=sgd_text_classifier,\n",
    "    labels=labels,\n",
    "    target_names=target_names,\n",
    ")"
   ]
  },
  {
   "cell_type": "markdown",
   "metadata": {},
   "source": [
    "#### K-nearest neighbors"
   ]
  },
  {
   "cell_type": "code",
   "execution_count": 51,
   "metadata": {},
   "outputs": [
    {
     "name": "stdout",
     "output_type": "stream",
     "text": [
      "LinearSVC accuracy: 0.96\n"
     ]
    }
   ],
   "source": [
    "knn_text_classifier = Pipeline(\n",
    "    steps=[\n",
    "        ('vectorizer', CountVectorizer()),\n",
    "        ('tfidf', TfidfTransformer()),\n",
    "        ('classifier', KNeighborsClassifier(n_neighbors=2)),\n",
    "    ]\n",
    ")\n",
    "\n",
    "# Training\n",
    "knn_text_classifier.fit(\n",
    "    X=gtruth_training_df['content'],\n",
    "    y=gtruth_training_df['target'],\n",
    ")\n",
    "\n",
    "# Prediction & model evaluation\n",
    "knn_predicted, knn_metrics, knn_cfm = evaluate_model(\n",
    "    model_name='LinearSVC',\n",
    "    x_test=gtruth_testing_df['content'],\n",
    "    y_test=gtruth_testing_df['target'],\n",
    "    classifier=knn_text_classifier,\n",
    "    labels=labels,\n",
    "    target_names=target_names,\n",
    ")"
   ]
  },
  {
   "cell_type": "markdown",
   "metadata": {},
   "source": [
    "#### Multinomial Naïve Bayes"
   ]
  },
  {
   "cell_type": "code",
   "execution_count": 52,
   "metadata": {},
   "outputs": [
    {
     "name": "stdout",
     "output_type": "stream",
     "text": [
      "LinearSVC accuracy: 0.96\n"
     ]
    }
   ],
   "source": [
    "mnb_text_classifier = Pipeline(\n",
    "    steps=[\n",
    "        ('vectorizer', CountVectorizer()),\n",
    "        ('tfidf', TfidfTransformer()),\n",
    "        ('classifier', MultinomialNB()),\n",
    "    ]\n",
    ")\n",
    "\n",
    "# Training\n",
    "mnb_text_classifier.fit(\n",
    "    X=gtruth_training_df['content'],\n",
    "    y=gtruth_training_df['target'],\n",
    ")\n",
    "\n",
    "# Prediction & model evaluation\n",
    "mnb_predicted, mnb_metrics, mnb_cfm = evaluate_model(\n",
    "    model_name='LinearSVC',\n",
    "    x_test=gtruth_testing_df['content'],\n",
    "    y_test=gtruth_testing_df['target'],\n",
    "    classifier=mnb_text_classifier,\n",
    "    labels=labels,\n",
    "    target_names=target_names,\n",
    ")"
   ]
  },
  {
   "cell_type": "markdown",
   "metadata": {},
   "source": [
    "### Data Analysis"
   ]
  },
  {
   "cell_type": "markdown",
   "metadata": {},
   "source": [
    "#### Terms appearances\n",
    "\n",
    "Forum threads have been filtered by tech terms related with DDoS. Let's visualize most relevant terms according to the quantity of appearances "
   ]
  },
  {
   "cell_type": "code",
   "execution_count": 43,
   "metadata": {},
   "outputs": [
    {
     "data": {
      "text/plain": [
       "[]"
      ]
     },
     "execution_count": 43,
     "metadata": {},
     "output_type": "execute_result"
    },
    {
     "data": {
      "image/png": "[encoded data removed]",
      "text/plain": [
       "<Figure size 864x532.8 with 1 Axes>"
      ]
     },
     "metadata": {
      "needs_background": "light"
     },
     "output_type": "display_data"
    }
   ],
   "source": [
    "terms_count = dict()\n",
    "for terms_list in threads_df['matching_terms'].values:\n",
    "    for term in terms_list:\n",
    "        if term not in terms_count:\n",
    "            terms_count[term] = 0\n",
    "        terms_count[term] += 1\n",
    "\n",
    "#  plt.bar(terms_count.keys(), terms_count.values())\n",
    "terms_count_df = pd.DataFrame(\n",
    "    {'matches': terms_count.values()}, \n",
    "    index=terms_count.keys()\n",
    ")\n",
    "plt.rcParams['figure.figsize'] = (12, 7.4)\n",
    "terms_count_df['matches'].plot(kind='bar')\n",
    "plt.xticks(rotation=30, horizontalalignment=\"center\")\n",
    "plt.title(\"HF Threads - DDoS tech related terms appearances\")\n",
    "plt.xlabel(\"DDoS tech related term\")\n",
    "plt.ylabel(\"Appearances in HF threads\")\n",
    "plt.plot()"
   ]
  }
 ],
 "metadata": {
  "accelerator": "GPU",
  "colab": {
   "collapsed_sections": [],
   "name": "practica - Sergio Fernandez Garcia.ipynb",
   "provenance": []
  },
  "kernelspec": {
   "display_name": "Python 3 (ipykernel)",
   "language": "python",
   "name": "python3"
  },
  "language_info": {
   "codemirror_mode": {
    "name": "ipython",
    "version": 3
   },
   "file_extension": ".py",
   "mimetype": "text/x-python",
   "name": "python",
   "nbconvert_exporter": "python",
   "pygments_lexer": "ipython3",
   "version": "3.8.10"
  }
 },
 "nbformat": 4,
 "nbformat_minor": 1
}
