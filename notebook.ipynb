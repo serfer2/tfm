{
 "cells": [
  {
   "cell_type": "markdown",
   "metadata": {
    "id": "9K0tconW2UKe"
   },
   "source": [
    "<div style=\"width: 100%; clear: both;\">\n",
    "  <div style=\"float: left; width: 50%;\">\n",
    "    <img src=\"http://www.uoc.edu/portal/_resources/common/imatges/marca_UOC/UOC_Masterbrand.jpg\", align=\"left\">\n",
    "  </div>\n",
    "  <div style=\"float: right; width: 50%;\">\n",
    "    <p style=\"padding-top: 42px; text-align:right;\">&nbsp;</p>\n",
    "    <p style=\"padding-top: 42px; text-align:right;\">M2.882 - TFM - Area 5 aula 1</p>\n",
    "    <p style=\"margin: 0; text-align:right;\">2021-1 · Máster universitario en Ciencia de datos (Data science)</p>\n",
    "  </div>\n",
    "   <div style=\"width:100%; clear: both;\">&nbsp;</div>\n",
    "</div>\n",
    "\n",
    "# PEC3 - Design & implementation\n",
    "\n",
    "## Sale of access IoT devices in underground forums"
   ]
  },
  {
   "cell_type": "markdown",
   "metadata": {
    "id": "qBR0rwVU5R4F"
   },
   "source": [
    "Autor: [Sergio Fernández García](mailto:serfer2@protonmail.com)"
   ]
  },
  {
   "cell_type": "code",
   "execution_count": 1,
   "metadata": {
    "id": "t9P5ozTBEqZz"
   },
   "outputs": [],
   "source": [
    "import os\n",
    "\n",
    "# import pandas as pd\n",
    "from psycopg2 import connect\n",
    "\n",
    "from application.services import HackForumsThreadsExtraction\n",
    "from infrastructure.repositories import (\n",
    "    ForumDBRepository,\n",
    "    ThreadSummaryDBRepository,\n",
    ")\n",
    "from shared.constants import RELATED_TERMS"
   ]
  },
  {
   "cell_type": "markdown",
   "metadata": {
    "id": "xC5CIhkK5-zz"
   },
   "source": [
    "<br><hr>\n",
    "### Data source connect\n",
    "<hr><br>\n",
    "\n",
    "Try to connect with environment variables, recommended for docker environment.\n",
    "\n",
    "If no `.env` have been set, DB connection values can be hardcoded below:\n"
   ]
  },
  {
   "cell_type": "code",
   "execution_count": 5,
   "metadata": {
    "id": "t9P5ozTBEqZz"
   },
   "outputs": [],
   "source": [
    "dbc = connect(\n",
    "    host=os.getenv('POSTGRES_HOST', 'localhost'),\n",
    "    database=os.getenv('POSTGRES_DB', 'crimebb'),\n",
    "    user=os.getenv('POSTGRES_USER', 'crimebb'),\n",
    "    password=os.getenv('POSTGRES_PASSWORD', 'crimebbinlocalhost'),\n",
    ")"
   ]
  },
  {
   "cell_type": "markdown",
   "metadata": {
    "id": "xC5CIhkK5-zz"
   },
   "source": [
    "<br><hr>\n",
    "### Data extraction\n",
    "<hr><br>\n",
    "\n",
    "#### Extract HackForums DDoS related threads\n",
    "\n",
    "Read threads heading and first post content from subforums in section `Market`.\n",
    "\n",
    "Selected threads should contain almost one term related with DDoS.\n"
   ]
  },
  {
   "cell_type": "code",
   "execution_count": 6,
   "metadata": {
    "colab": {
     "base_uri": "https://localhost:8080/",
     "height": 547
    },
    "id": "W2aGSfS3Jmh2",
    "outputId": "276d3cc8-d09a-4ba0-96df-b4e87abd9487"
   },
   "outputs": [
    {
     "name": "stdout",
     "output_type": "stream",
     "text": [
      "*** Related threads ... 42149\n"
     ]
    }
   ],
   "source": [
    "data_extraction_service = HackForumsThreadsExtraction(\n",
    "    forum_repository=ForumDBRepository(dbc=dbc),\n",
    "    thread_summary_repository=ThreadSummaryDBRepository(dbc=dbc),\n",
    ")\n",
    "ddos_related_terms = RELATED_TERMS.get('tech_terms')\n",
    "related_threads_data = data_extraction_service.extract(\n",
    "    related_terms=ddos_related_terms,\n",
    ")\n",
    "print(f'*** Related threads ... {len(related_threads_data)}')"
   ]
  }
 ],
 "metadata": {
  "accelerator": "GPU",
  "colab": {
   "collapsed_sections": [],
   "name": "practica - Sergio Fernandez Garcia.ipynb",
   "provenance": []
  },
  "kernelspec": {
   "display_name": "Python 3 (ipykernel)",
   "language": "python",
   "name": "python3"
  },
  "language_info": {
   "codemirror_mode": {
    "name": "ipython",
    "version": 3
   },
   "file_extension": ".py",
   "mimetype": "text/x-python",
   "name": "python",
   "nbconvert_exporter": "python",
   "pygments_lexer": "ipython3",
   "version": "3.8.10"
  }
 },
 "nbformat": 4,
 "nbformat_minor": 1
}
